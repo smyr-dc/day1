{
  "nbformat": 4,
  "nbformat_minor": 0,
  "metadata": {
    "colab": {
      "provenance": [],
      "mount_file_id": "19yRRNmuQXeAcOkbUAdI3dR1xvhSIZl9r",
      "authorship_tag": "ABX9TyMOdHtpPFduWMbYwcUqtPI+",
      "include_colab_link": true
    },
    "kernelspec": {
      "name": "python3",
      "display_name": "Python 3"
    },
    "language_info": {
      "name": "python"
    }
  },
  "cells": [
    {
      "cell_type": "markdown",
      "metadata": {
        "id": "view-in-github",
        "colab_type": "text"
      },
      "source": [
        "<a href=\"https://colab.research.google.com/github/smyr-dc/day1/blob/main/instagram_post.ipynb\" target=\"_parent\"><img src=\"https://colab.research.google.com/assets/colab-badge.svg\" alt=\"Open In Colab\"/></a>"
      ]
    },
    {
      "cell_type": "code",
      "source": [
        "!pip install instagrapi\n"
      ],
      "metadata": {
        "colab": {
          "base_uri": "https://localhost:8080/"
        },
        "collapsed": true,
        "id": "b4oOfFnyyyDt",
        "outputId": "68869b68-1b2e-4737-e1de-7498cbd9eb35"
      },
      "execution_count": 2,
      "outputs": [
        {
          "output_type": "stream",
          "name": "stdout",
          "text": [
            "Collecting instagrapi\n",
            "  Downloading instagrapi-2.2.1-py3-none-any.whl.metadata (2.9 kB)\n",
            "Collecting requests==2.32.4 (from instagrapi)\n",
            "  Downloading requests-2.32.4-py3-none-any.whl.metadata (4.9 kB)\n",
            "Requirement already satisfied: PySocks==1.7.1 in /usr/local/lib/python3.11/dist-packages (from instagrapi) (1.7.1)\n",
            "Requirement already satisfied: pydantic==2.11.7 in /usr/local/lib/python3.11/dist-packages (from instagrapi) (2.11.7)\n",
            "Requirement already satisfied: moviepy==1.0.3 in /usr/local/lib/python3.11/dist-packages (from instagrapi) (1.0.3)\n",
            "Requirement already satisfied: pycryptodomex==3.23.0 in /usr/local/lib/python3.11/dist-packages (from instagrapi) (3.23.0)\n",
            "Requirement already satisfied: decorator<5.0,>=4.0.2 in /usr/local/lib/python3.11/dist-packages (from moviepy==1.0.3->instagrapi) (4.4.2)\n",
            "Requirement already satisfied: tqdm<5.0,>=4.11.2 in /usr/local/lib/python3.11/dist-packages (from moviepy==1.0.3->instagrapi) (4.67.1)\n",
            "Requirement already satisfied: proglog<=1.0.0 in /usr/local/lib/python3.11/dist-packages (from moviepy==1.0.3->instagrapi) (0.1.12)\n",
            "Requirement already satisfied: numpy>=1.17.3 in /usr/local/lib/python3.11/dist-packages (from moviepy==1.0.3->instagrapi) (2.0.2)\n",
            "Requirement already satisfied: imageio<3.0,>=2.5 in /usr/local/lib/python3.11/dist-packages (from moviepy==1.0.3->instagrapi) (2.37.0)\n",
            "Requirement already satisfied: imageio-ffmpeg>=0.2.0 in /usr/local/lib/python3.11/dist-packages (from moviepy==1.0.3->instagrapi) (0.6.0)\n",
            "Requirement already satisfied: annotated-types>=0.6.0 in /usr/local/lib/python3.11/dist-packages (from pydantic==2.11.7->instagrapi) (0.7.0)\n",
            "Requirement already satisfied: pydantic-core==2.33.2 in /usr/local/lib/python3.11/dist-packages (from pydantic==2.11.7->instagrapi) (2.33.2)\n",
            "Requirement already satisfied: typing-extensions>=4.12.2 in /usr/local/lib/python3.11/dist-packages (from pydantic==2.11.7->instagrapi) (4.14.1)\n",
            "Requirement already satisfied: typing-inspection>=0.4.0 in /usr/local/lib/python3.11/dist-packages (from pydantic==2.11.7->instagrapi) (0.4.1)\n",
            "Requirement already satisfied: charset_normalizer<4,>=2 in /usr/local/lib/python3.11/dist-packages (from requests==2.32.4->instagrapi) (3.4.2)\n",
            "Requirement already satisfied: idna<4,>=2.5 in /usr/local/lib/python3.11/dist-packages (from requests==2.32.4->instagrapi) (3.10)\n",
            "Requirement already satisfied: urllib3<3,>=1.21.1 in /usr/local/lib/python3.11/dist-packages (from requests==2.32.4->instagrapi) (2.4.0)\n",
            "Requirement already satisfied: certifi>=2017.4.17 in /usr/local/lib/python3.11/dist-packages (from requests==2.32.4->instagrapi) (2025.7.14)\n",
            "Requirement already satisfied: pillow>=8.3.2 in /usr/local/lib/python3.11/dist-packages (from imageio<3.0,>=2.5->moviepy==1.0.3->instagrapi) (11.2.1)\n",
            "Downloading instagrapi-2.2.1-py3-none-any.whl (124 kB)\n",
            "\u001b[2K   \u001b[90m━━━━━━━━━━━━━━━━━━━━━━━━━━━━━━━━━━━━━━━━\u001b[0m \u001b[32m124.2/124.2 kB\u001b[0m \u001b[31m5.2 MB/s\u001b[0m eta \u001b[36m0:00:00\u001b[0m\n",
            "\u001b[?25hDownloading requests-2.32.4-py3-none-any.whl (64 kB)\n",
            "\u001b[2K   \u001b[90m━━━━━━━━━━━━━━━━━━━━━━━━━━━━━━━━━━━━━━━━\u001b[0m \u001b[32m64.8/64.8 kB\u001b[0m \u001b[31m4.0 MB/s\u001b[0m eta \u001b[36m0:00:00\u001b[0m\n",
            "\u001b[?25hInstalling collected packages: requests, instagrapi\n",
            "  Attempting uninstall: requests\n",
            "    Found existing installation: requests 2.32.3\n",
            "    Uninstalling requests-2.32.3:\n",
            "      Successfully uninstalled requests-2.32.3\n",
            "\u001b[31mERROR: pip's dependency resolver does not currently take into account all the packages that are installed. This behaviour is the source of the following dependency conflicts.\n",
            "google-colab 1.0.0 requires requests==2.32.3, but you have requests 2.32.4 which is incompatible.\u001b[0m\u001b[31m\n",
            "\u001b[0mSuccessfully installed instagrapi-2.2.1 requests-2.32.4\n"
          ]
        }
      ]
    },
    {
      "cell_type": "code",
      "source": [
        "# Python script\n",
        "from instagrapi import Client\n",
        "\n",
        "cl = Client()\n",
        "cl.login(\"hesap\", \"sifre\")\n",
        "cl.photo_upload(\"/content/drive/MyDrive/instagram image/a-warm-and-inviting-lifestyle-advertisem_yF09I-QLQsawXhdJ2KBwpQ_jBoc-7VrSeSseKH-YWkxRA.jpeg\", '''Güzellik merkezinizde mükemmel bir deneyim yaşatmak mı istiyorsunuz? AI Voice ve Chat Agent'lar tam da ihtiyaç duyduğunuz çözüm! 💁‍♀️✨\n",
        "\n",
        "1. **24/7 Hizmet:** Müşterilerinize her an ulaşabileceğiniz bir destek sunarak, randevu taleplerini ve soruları anında yanıtlayabilirsiniz. Ne zaman ihtiyaç duyurlarsa oradasınız!\n",
        "\n",
        "2. **Kişiselleştirilmiş Deneyim:** Yapay zeka, müşteri verilerinizi analiz ederek hedef kitleniz için özelleştirilmiş öneriler sunar. Her bir müşteriniz, kendini özel hissedecek.\n",
        "\n",
        "3. **Zaman Tasarrufu:** İş gücünüzü optimize edin! Randevu ayarlama ve sıkça sorulan soruları yanıtlamak için harcanan zamanı azaltarak, dikkat ve enerjinizi daha yaratıcı işlere harcayın.\n",
        "\n",
        "4. **Müşteri Memnuniyeti:** Hızlı ve etkili yanıtlar, memnuniyet oranlarınızı artırır. Müşterileriniz, zamanında yardım aldıklarını gördüklerinde sizi tercih etmeye devam edecek.\n",
        "\n",
        "5. **Rekabet Avantajı:** Pazarınızda öne çıkmak için teknolojiye yatırım yapın. AI ile desteklenen hizmetler, sizi rakiplerinizin bir adım önüne taşır.\n",
        "\n",
        "📞 Unutmayın, müşteri deneyimi her şeydir. Güzel bir yüz ifadesi, içeride verdiğiniz hizmet kadar dışarıda da önemlidir! AI Voice ve Chat Agent’lar ile güzellik merkezinizde devrim yaratmaya hazır mısınız? 💖🌟 #Güzellik #HayalinizdekiMerkez #YapayZek''')"
      ],
      "metadata": {
        "colab": {
          "base_uri": "https://localhost:8080/"
        },
        "collapsed": true,
        "id": "n8nZg0vlxKle",
        "outputId": "31e01a46-75f4-4b2c-da34-b666fdafcadf"
      },
      "execution_count": 5,
      "outputs": [
        {
          "output_type": "execute_result",
          "data": {
            "text/plain": [
              "Media(pk=3681442864723046322, id='3681442864723046322_72773273414', code='DMXHMfEtq-y', taken_at=datetime.datetime(2025, 7, 21, 7, 16, 50, tzinfo=TzInfo(UTC)), media_type=1, image_versions2=SharedMediaImageVersions(additional_candidates=None, candidates=[SharedMediaImageCandidate(estimated_scans_sizes=[6235, 12471, 18706, 24942, 31177, 34888, 44396, 50458, 56120], height=920, scans_profile='e35', url='https://scontent-ams4-1.cdninstagram.com/v/t51.2885-15/521964032_17865764628425415_3440637579403250244_n.jpg?stp=dst-jpg_e35_tt6&efg=eyJ2ZW5jb2RlX3RhZyI6IkZFRUQuaW1hZ2VfdXJsZ2VuLjczNng5MjAuc2RyLmY4Mjc4Ny5kZWZhdWx0X2ltYWdlIn0&_nc_ht=scontent-ams4-1.cdninstagram.com&_nc_cat=103&_nc_oc=Q6cZ2QE9omUCQPcG1csK6xwHLM8ubzqswcK7YTNPpG3WEBvMce6sSanWe39rSyw4Z-qZuUQ&_nc_ohc=zTupECBKHQYQ7kNvwGBBEBd&_nc_gid=sirQ8kfOWbeoXZThstI5hA&edm=ACqnv0EBAAAA&ccb=7-5&ig_cache_key=MzY4MTQ0Mjg2NDcyMzA0NjMyMg%3D%3D.3-ccb7-5&oh=00_AfSzhVZQbOWI6o92cVc_WEcWUwPcgRkWqZohVkzNcCtoiA&oe=6883A211&_nc_sid=7698e5', width=736), SharedMediaImageCandidate(estimated_scans_sizes=[2641, 5282, 7924, 10565, 13206, 15899, 458848, 23772, 23772], height=450, scans_profile='e35', url='https://scontent-ams4-1.cdninstagram.com/v/t51.2885-15/521964032_17865764628425415_3440637579403250244_n.jpg?stp=dst-jpg_e35_p360x360_tt6&efg=eyJ2ZW5jb2RlX3RhZyI6IkZFRUQuaW1hZ2VfdXJsZ2VuLjczNng5MjAuc2RyLmY4Mjc4Ny5kZWZhdWx0X2ltYWdlIn0&_nc_ht=scontent-ams4-1.cdninstagram.com&_nc_cat=103&_nc_oc=Q6cZ2QE9omUCQPcG1csK6xwHLM8ubzqswcK7YTNPpG3WEBvMce6sSanWe39rSyw4Z-qZuUQ&_nc_ohc=zTupECBKHQYQ7kNvwGBBEBd&_nc_gid=sirQ8kfOWbeoXZThstI5hA&edm=ACqnv0EBAAAA&ccb=7-5&ig_cache_key=MzY4MTQ0Mjg2NDcyMzA0NjMyMg%3D%3D.3-ccb7-5&oh=00_AfQTWu_nODnBpoWBe3jrV86jl_8tH7tb8S3mcN0LCYEJoA&oe=6883A211&_nc_sid=7698e5', width=360)], scrubber_spritesheet_info_candidates=None), product_type='feed', thumbnail_url=HttpUrl('https://scontent-ams4-1.cdninstagram.com/v/t51.2885-15/521964032_17865764628425415_3440637579403250244_n.jpg?stp=dst-jpg_e35_tt6&efg=eyJ2ZW5jb2RlX3RhZyI6IkZFRUQuaW1hZ2VfdXJsZ2VuLjczNng5MjAuc2RyLmY4Mjc4Ny5kZWZhdWx0X2ltYWdlIn0&_nc_ht=scontent-ams4-1.cdninstagram.com&_nc_cat=103&_nc_oc=Q6cZ2QE9omUCQPcG1csK6xwHLM8ubzqswcK7YTNPpG3WEBvMce6sSanWe39rSyw4Z-qZuUQ&_nc_ohc=zTupECBKHQYQ7kNvwGBBEBd&_nc_gid=sirQ8kfOWbeoXZThstI5hA&edm=ACqnv0EBAAAA&ccb=7-5&ig_cache_key=MzY4MTQ0Mjg2NDcyMzA0NjMyMg%3D%3D.3-ccb7-5&oh=00_AfSzhVZQbOWI6o92cVc_WEcWUwPcgRkWqZohVkzNcCtoiA&oe=6883A211&_nc_sid=7698e5'), location=None, user=UserShort(pk='72773273414', username='solvinaforbeauty', full_name='solvinaforbeauty', profile_pic_url=HttpUrl('https://scontent-ams4-1.cdninstagram.com/v/t51.2885-19/502357296_17862100944425415_3280848213475006809_n.jpg?stp=dst-jpg_e0_s150x150_tt6&_nc_ht=scontent-ams4-1.cdninstagram.com&_nc_cat=103&_nc_oc=Q6cZ2QE9omUCQPcG1csK6xwHLM8ubzqswcK7YTNPpG3WEBvMce6sSanWe39rSyw4Z-qZuUQ&_nc_ohc=YB98vr44KEQQ7kNvwG9lKr_&_nc_gid=sirQ8kfOWbeoXZThstI5hA&edm=ACqnv0EBAAAA&ccb=7-5&ig_cache_key=GDBd8R3HEbx1fHU-AFkZJ0YR6octbvEnAQAB-ccb7-5&oh=00_AfQh6kKvAHirnt1QEKaYcaUrLjTlzwQOXBGd4_xg3utfnQ&oe=6883D2B5&_nc_sid=7698e5'), profile_pic_url_hd=None, is_private=False), comment_count=0, comments_disabled=False, commenting_disabled_for_viewer=False, like_count=0, play_count=0, has_liked=False, caption_text=\"Güzellik merkezinizde mükemmel bir deneyim yaşatmak mı istiyorsunuz? AI Voice ve Chat Agent'lar tam da ihtiyaç duyduğunuz çözüm! 💁\\u200d♀️✨\\n\\n1. **24/7 Hizmet:** Müşterilerinize her an ulaşabileceğiniz bir destek sunarak, randevu taleplerini ve soruları anında yanıtlayabilirsiniz. Ne zaman ihtiyaç duyurlarsa oradasınız!\\n\\n2. **Kişiselleştirilmiş Deneyim:** Yapay zeka, müşteri verilerinizi analiz ederek hedef kitleniz için özelleştirilmiş öneriler sunar. Her bir müşteriniz, kendini özel hissedecek.\\n\\n3. **Zaman Tasarrufu:** İş gücünüzü optimize edin! Randevu ayarlama ve sıkça sorulan soruları yanıtlamak için harcanan zamanı azaltarak, dikkat ve enerjinizi daha yaratıcı işlere harcayın.\\n\\n4. **Müşteri Memnuniyeti:** Hızlı ve etkili yanıtlar, memnuniyet oranlarınızı artırır. Müşterileriniz, zamanında yardım aldıklarını gördüklerinde sizi tercih etmeye devam edecek.\\n\\n5. **Rekabet Avantajı:** Pazarınızda öne çıkmak için teknolojiye yatırım yapın. AI ile desteklenen hizmetler, sizi rakiplerinizin bir adım önüne taşır.\\n\\n📞 Unutmayın, müşteri deneyimi her şeydir. Güzel bir yüz ifadesi, içeride verdiğiniz hizmet kadar dışarıda da önemlidir! AI Voice ve Chat Agent’lar ile güzellik merkezinizde devrim yaratmaya hazır mısınız? 💖🌟 #Güzellik #HayalinizdekiMerkez #YapayZek\", accessibility_caption=None, usertags=[], sponsor_tags=[], video_url=None, view_count=0, video_duration=0.0, title='', resources=[], clips_metadata=None)"
            ]
          },
          "metadata": {},
          "execution_count": 5
        }
      ]
    },
    {
      "cell_type": "code",
      "execution_count": null,
      "metadata": {
        "id": "0ZZksxdnxIzh"
      },
      "outputs": [],
      "source": []
    }
  ]
}